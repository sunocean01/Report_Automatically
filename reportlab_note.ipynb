{
 "cells": [
  {
   "cell_type": "code",
   "execution_count": 4,
   "id": "6685ee10-8f9d-41eb-93c2-9a0df104435d",
   "metadata": {},
   "outputs": [],
   "source": [
    "import reportlab.pdfgen as gen\n",
    "import reportlab.graphics as gh\n",
    "import reportlab.lib as lb\n",
    "import reportlab.pdfbase as bs\n",
    "import reportlab.platypus as pp\n",
    "import os\n",
    "import subprocess"
   ]
  },
  {
   "cell_type": "code",
   "execution_count": null,
   "id": "c4adadd2-087e-4663-b17b-397929373948",
   "metadata": {},
   "outputs": [],
   "source": [
    "for nm,library in zip(['pdfen','graphics','lib','pdfbase','platypus'],[gen,gh,lb,bs,pp]):\n",
    "    print(f\"{nm} methods:\")\n",
    "    for i in [s for s in dir(library) if not s.startswith(\"_\")]:\n",
    "        print(i)\n",
    "    print(\"*\"*50)"
   ]
  },
  {
   "cell_type": "markdown",
   "id": "763d9428-844d-4644-8708-52421dd1eed2",
   "metadata": {},
   "source": [
    "# Canvas"
   ]
  },
  {
   "cell_type": "code",
   "execution_count": null,
   "id": "d4ba6b7b-f284-4d43-bb63-c43bbeb1471e",
   "metadata": {},
   "outputs": [],
   "source": [
    "c = canvas.Canvas(\"testoutput\\Hello.pdf\",\n",
    "                  pagesize='A4',\n",
    "                  bottomup=2,\n",
    "                  encodings='UTF8')\n",
    "c.drawString(200,700,\"HARVESTEC SERVICE CO., LTD\",)\n",
    "c.showPage()\n",
    "c.save()"
   ]
  },
  {
   "cell_type": "code",
   "execution_count": null,
   "id": "cc83da76-5d50-4a0b-b877-1d560e9f73c7",
   "metadata": {},
   "outputs": [],
   "source": [
    "from reportlab import Table"
   ]
  },
  {
   "cell_type": "code",
   "execution_count": null,
   "id": "345e96ed-c192-4757-9cfa-b74e30d86498",
   "metadata": {},
   "outputs": [],
   "source": []
  },
  {
   "cell_type": "code",
   "execution_count": null,
   "id": "f204cf0e-8ab1-4142-ab82-c0b1f3a9f68c",
   "metadata": {},
   "outputs": [],
   "source": []
  },
  {
   "cell_type": "code",
   "execution_count": 5,
   "id": "332775f3-5238-4721-a939-6e9b238dc0e2",
   "metadata": {},
   "outputs": [],
   "source": [
    "path = r\"C:\\Program Files\\Tracker Software\\PDF Editor\\PDFXEdit.exe C:\\work\\git\\Report_Automatically\\TemplateSample.pdf\"\n",
    "args = r\"C:\\work\\git\\Report_Automatically\\TemplateSample.pdf\""
   ]
  },
  {
   "cell_type": "code",
   "execution_count": null,
   "id": "125c14f3-dabf-4c4d-8447-96989ddc3211",
   "metadata": {},
   "outputs": [],
   "source": [
    "os.execlp(path, args)"
   ]
  },
  {
   "cell_type": "code",
   "execution_count": 6,
   "id": "9395f6b0-9f1e-4b94-9ac9-f64e19f91e5c",
   "metadata": {},
   "outputs": [
    {
     "data": {
      "text/plain": [
       "<Popen: returncode: None args: 'C:\\\\Program Files\\\\Tracker Software\\\\PDF Edi...>"
      ]
     },
     "execution_count": 6,
     "metadata": {},
     "output_type": "execute_result"
    }
   ],
   "source": [
    "subprocess.Popen(path)"
   ]
  },
  {
   "cell_type": "code",
   "execution_count": null,
   "id": "ae8f2597-3930-48de-af9c-fb840a07fa0b",
   "metadata": {},
   "outputs": [],
   "source": []
  }
 ],
 "metadata": {
  "kernelspec": {
   "display_name": "WinPython_3p11",
   "language": "python",
   "name": "winpython_3p11"
  },
  "language_info": {
   "codemirror_mode": {
    "name": "ipython",
    "version": 3
   },
   "file_extension": ".py",
   "mimetype": "text/x-python",
   "name": "python",
   "nbconvert_exporter": "python",
   "pygments_lexer": "ipython3",
   "version": "3.11.6"
  }
 },
 "nbformat": 4,
 "nbformat_minor": 5
}

{
 "cells": [
  {
   "cell_type": "code",
   "execution_count": 15,
   "id": "6685ee10-8f9d-41eb-93c2-9a0df104435d",
   "metadata": {},
   "outputs": [],
   "source": [
    "import reportlab.pdfgen as gen\n",
    "import reportlab.graphics as gh\n",
    "import reportlab.lib as lb\n",
    "import reportlab.pdfbase as bs\n",
    "import reportlab.platypus as pp\n",
    "import os\n",
    "import subprocess\n",
    "import json"
   ]
  },
  {
   "cell_type": "code",
   "execution_count": null,
   "id": "c4adadd2-087e-4663-b17b-397929373948",
   "metadata": {},
   "outputs": [],
   "source": [
    "for nm,library in zip(['pdfen','graphics','lib','pdfbase','platypus'],[gen,gh,lb,bs,pp]):\n",
    "    print(f\"{nm} methods:\")\n",
    "    for i in [s for s in dir(library) if not s.startswith(\"_\")]:\n",
    "        print(i)\n",
    "    print(\"*\"*50)"
   ]
  },
  {
   "cell_type": "markdown",
   "id": "763d9428-844d-4644-8708-52421dd1eed2",
   "metadata": {},
   "source": [
    "# Canvas"
   ]
  },
  {
   "cell_type": "code",
   "execution_count": null,
   "id": "d4ba6b7b-f284-4d43-bb63-c43bbeb1471e",
   "metadata": {},
   "outputs": [],
   "source": [
    "c = canvas.Canvas(\"testoutput\\Hello.pdf\",\n",
    "                  pagesize='A4',\n",
    "                  bottomup=2,\n",
    "                  encodings='UTF8')\n",
    "c.drawString(200,700,\"HARVESTEC SERVICE CO., LTD\",)\n",
    "c.showPage()\n",
    "c.save()"
   ]
  },
  {
   "cell_type": "code",
   "execution_count": null,
   "id": "cc83da76-5d50-4a0b-b877-1d560e9f73c7",
   "metadata": {},
   "outputs": [],
   "source": [
    "from reportlab import Table"
   ]
  },
  {
   "cell_type": "code",
   "execution_count": null,
   "id": "345e96ed-c192-4757-9cfa-b74e30d86498",
   "metadata": {},
   "outputs": [],
   "source": []
  },
  {
   "cell_type": "code",
   "execution_count": null,
   "id": "f204cf0e-8ab1-4142-ab82-c0b1f3a9f68c",
   "metadata": {},
   "outputs": [],
   "source": []
  },
  {
   "cell_type": "code",
   "execution_count": 5,
   "id": "332775f3-5238-4721-a939-6e9b238dc0e2",
   "metadata": {},
   "outputs": [],
   "source": [
    "path = r\"C:\\Program Files\\Tracker Software\\PDF Editor\\PDFXEdit.exe C:\\work\\git\\Report_Automatically\\TemplateSample.pdf\"\n",
    "args = r\"C:\\work\\git\\Report_Automatically\\TemplateSample.pdf\""
   ]
  },
  {
   "cell_type": "code",
   "execution_count": null,
   "id": "125c14f3-dabf-4c4d-8447-96989ddc3211",
   "metadata": {},
   "outputs": [],
   "source": [
    "os.execlp(path, args)"
   ]
  },
  {
   "cell_type": "code",
   "execution_count": 6,
   "id": "9395f6b0-9f1e-4b94-9ac9-f64e19f91e5c",
   "metadata": {},
   "outputs": [
    {
     "data": {
      "text/plain": [
       "<Popen: returncode: None args: 'C:\\\\Program Files\\\\Tracker Software\\\\PDF Edi...>"
      ]
     },
     "execution_count": 6,
     "metadata": {},
     "output_type": "execute_result"
    }
   ],
   "source": [
    "subprocess.Popen(path)"
   ]
  },
  {
   "cell_type": "markdown",
   "id": "ac33df8e-86a9-4a58-8c59-cbfec18fa12f",
   "metadata": {},
   "source": [
    "# Paragraph"
   ]
  },
  {
   "cell_type": "code",
   "execution_count": null,
   "id": "b6c12d5b-9bf9-4729-9d56-1c4735784ef9",
   "metadata": {},
   "outputs": [],
   "source": [
    "from reportlab.lib.styles import ParagraphStyle"
   ]
  },
  {
   "cell_type": "code",
   "execution_count": null,
   "id": "3dc0b149-f128-4823-bd8d-c32347d7178e",
   "metadata": {},
   "outputs": [],
   "source": [
    "class ParagraphStyle(PropertySet):\n",
    "    defaults = {\n",
    "        'fontName':_baseFontName,\n",
    "        'fontSize':10,\n",
    "        'leading':12,\n",
    "        'leftIndent':0,\n",
    "        'rightIndent':0,\n",
    "        'firstLineIndent':0,\n",
    "        'alignment':TA_LEFT,\n",
    "        'spaceBefore':0,\n",
    "        'spaceAfter':0,\n",
    "        'bulletFontName':_baseFontName,\n",
    "        'bulletFontSize':10,\n",
    "        'bulletIndent':0,\n",
    "        #'bulletColor':black,\n",
    "        'textColor': black,\n",
    "        'backColor':None,\n",
    "        'wordWrap':None,        #None means do nothing special\n",
    "                                #CJK use Chinese Line breaking\n",
    "                                #LTR RTL use left to right / right to left\n",
    "                                #with support from pyfribi2 if available\n",
    "        'borderWidth': 0,\n",
    "        'borderPadding': 0,\n",
    "        'borderColor': None,\n",
    "        'borderRadius': None,\n",
    "        'allowWidows': 1,\n",
    "        'allowOrphans': 0,\n",
    "        'textTransform':None,   #uppercase lowercase (captitalize not yet) or None or absent\n",
    "        'endDots':None,         #dots on the last line of left/right justified paras\n",
    "                                #string or object with text and optional fontName, fontSize, textColor & backColor\n",
    "                                #dy\n",
    "        'splitLongWords':1,     #make best efforts to split long words\n",
    "        'underlineWidth': _baseUnderlineWidth,  #underline width default\n",
    "        'bulletAnchor': 'start',    #where the bullet is anchored ie start, middle, end or numeric\n",
    "        'justifyLastLine': 0,   #n allow justification on the last line for more than n words 0 means don't bother\n",
    "        'justifyBreaks': 0,     #justify lines broken with <br/>\n",
    "        'spaceShrinkage': _spaceShrinkage,  #allow shrinkage of percentage of space to fit on line\n",
    "        'strikeWidth': _baseStrikeWidth,    #stroke width default\n",
    "        'underlineOffset': _baseUnderlineOffset,    #fraction of fontsize to offset underlines\n",
    "        'underlineGap': _baseUnderlineGap,      #gap for double/triple underline\n",
    "        'strikeOffset': _baseStrikeOffset,  #fraction of fontsize to offset strikethrough\n",
    "        'strikeGap': _baseStrikeGap,        #gap for double/triple strike\n",
    "        'linkUnderline': _platypus_link_underline,\n",
    "        'underlineColor':   None,\n",
    "        'strikeColor': None,\n",
    "        'hyphenationLang': _hyphenationLang,\n",
    "        #'hyphenationMinWordLength': _hyphenationMinWordLength,\n",
    "        'embeddedHyphenation': _embeddedHyphenation,\n",
    "        'uriWasteReduce': _uriWasteReduce,\n",
    "        }"
   ]
  },
  {
   "cell_type": "raw",
   "id": "a62b6c59-4406-4cc6-8cc8-53bc6053b285",
   "metadata": {},
   "source": [
    "几个重要参数的说明：\n",
    "fontName：字体名称\n",
    "fontSize：字体大小\n",
    "leading：行间距\n",
    "leftIndent：左缩进\n",
    "rightIndent：右缩进\n",
    "firstLineIndent：首行缩进\n",
    "alignment：对齐方式\n",
    "spaceBefore：段前间隙\n",
    "spaceAfter：段后间隙\n",
    "bulletFontName：列表名称\n",
    "bulletFontSize：列表字体大小\n",
    "bulletIndent：列表缩进\n",
    "textColor：字体颜色\n",
    "backColor：背景色\n",
    "borderWidth：边框粗细\n",
    "borderPadding：边框间距\n",
    "borderColor：边框颜色"
   ]
  },
  {
   "cell_type": "code",
   "execution_count": null,
   "id": "f0382b33-051c-449c-a484-8a8fab27390d",
   "metadata": {},
   "outputs": [],
   "source": [
    "from reportlab.lib.styles import getSampleStyleSheet\n",
    "stylesheet=getSampleStyleSheet()\n",
    "normalStyle = stylesheet['Normal']"
   ]
  },
  {
   "cell_type": "raw",
   "id": "efd276b2-7284-495f-b1b4-fa8d8a97ea4e",
   "metadata": {},
   "source": [
    "这里获得系统提供的Normal格式，其实Normal格式与ParagraphStyle是一模一样的，除了Normal格式，还可以获得其他的格式：\n",
    "Normal\n",
    "BodyText\n",
    "Italic\n",
    "Title\n",
    "Heading1\n",
    "Heading2\n",
    "Heading3\n",
    "Heading4\n",
    "Heading5\n",
    "Heading6\n",
    "Bullet\n",
    "Definition\n",
    "Code\n",
    "UnorderedList\n",
    "OrderedList"
   ]
  },
  {
   "cell_type": "markdown",
   "id": "cc293d0f-5d70-454c-877c-4b652682443a",
   "metadata": {},
   "source": [
    "# Table"
   ]
  },
  {
   "cell_type": "code",
   "execution_count": null,
   "id": "84c83475-53ba-4927-bf4a-2e7704c62bce",
   "metadata": {},
   "outputs": [],
   "source": [
    "Table(data, \n",
    "      colWidths=None, \n",
    "      rowHeights=None, \n",
    "      style=None, \n",
    "      splitByRow=1,\n",
    "      repeatRows=0, \n",
    "      repeatCols=0, \n",
    "      rowSplitRange=None, \n",
    "      spaceBefore=None,\n",
    "      spaceAfter=None)"
   ]
  },
  {
   "cell_type": "code",
   "execution_count": null,
   "id": "463bf547-1793-4ebe-b674-bdd2adf63973",
   "metadata": {},
   "outputs": [],
   "source": [
    "几个关键参数：\n",
    "data：数据参数是一系列的表格值，每个表格值能够被转换为字符串或者Flowable实例。data值的第一行是data[0]，第i行j列表格值是data[i] [j]。\n",
    "colWidths：是一系列值，这些值代表每列的宽度。如果传递的是None，则对应列宽需要被自动计算。\n",
    "rowHeights：是一系列值，这些值代表每行的高度。如果传递的是None，则对应的行高需要被自动计算。\n",
    "style：表格被创建时的初始样式值。\n",
    "splitByRow：布尔值，当指定值为1时，允许跨页分割表格，当指定指为0时，不允许跨页分割表格。\n",
    "repeatRows：指定跨页分行时，需要重复的行数。\n",
    "repeatCols：暂时没用。\n",
    "spaceBefore：指定表格前的行数。\n",
    "spaceAfter：指定表格后的行数。"
   ]
  },
  {
   "cell_type": "code",
   "execution_count": 8,
   "id": "6e2942e7-89a1-4108-817c-082a2fc9c3e3",
   "metadata": {},
   "outputs": [],
   "source": [
    "from reportlab.platypus import SimpleDocTemplate, Table, TableStyle\n",
    "from reportlab.lib.styles import getSampleStyleSheet\n",
    "from reportlab.lib import colors\n",
    "\n",
    "# 调用模板，创建指定名称的PDF文档\n",
    "doc = SimpleDocTemplate(\"my_pdf_01.pdf\")\n",
    "# 获得模板表格\n",
    "styles = getSampleStyleSheet()\n",
    "# 指定模板\n",
    "style = styles['Normal']\n",
    "# 初始化内容\n",
    "story =[]\n",
    "\n",
    "# 初始化表格内容\n",
    "data= [['00', '01', '02', '03', '04'],\n",
    "       ['10', '11', '12', '13', '14'],\n",
    "       ['20', '21', '22', '23', '24'],\n",
    "       ['30', '31', '32', '33', '34']]\n",
    "\n",
    "# 根据内容创建表格\n",
    "\n",
    "# 一：直接传入style:\n",
    "t = Table(data,style=[\n",
    "                     ('GRID', (0, 0), (-1, -1), 1, colors.grey),\n",
    "                     ('GRID', (1, 1), (-2, -2), 1, colors.green),\n",
    "                     ('BOX', (0, 0), (1, -1), 2, colors.red),\n",
    "                     ('BACKGROUND', (0, 0), (0, 1), colors.pink),\n",
    "                     ('BACKGROUND', (1, 1), (1, 2), colors.lavender),\n",
    "                     ('BACKGROUND', (2, 2), (2, 3), colors.orange),\n",
    "                    ]\n",
    "        )\n",
    "\n",
    "\n",
    "t.setStyle(TableStyle([\n",
    "                         ('INNERGRID', (0, 0), (-1, -1), 0.25, colors.black),\n",
    "                         ('BOX', (0, 0), (-1, -1), 2, colors.black),\n",
    "                         ('LINEBELOW', (0, 0), (-1, 0), 2, colors.yellow),\n",
    "                         ('LINEAFTER', (0, 0), (0, -1), 2, colors.blue),\n",
    "                         ('ALIGN', (1, 1), (-1, -1), 'RIGHT')\n",
    "                        ]))\n",
    "# 将表格添加到内容中\n",
    "story.append(t)\n",
    "# 将内容输出到PDF中\n",
    "doc.build(story)"
   ]
  },
  {
   "cell_type": "code",
   "execution_count": null,
   "id": "6c500912-a950-43ea-addf-b9da75e783ea",
   "metadata": {},
   "outputs": [],
   "source": [
    "2种设置表格样式的方法：\n",
    "一：直接传入style:见上面例子\n",
    "t = Table(data,style=styles)\n",
    "\n",
    "二：调用setStyle， 见上面例子\n",
    "\n",
    "重点表格格式化命令：\n",
    "FONTNAME：字体名称\n",
    "FONTSIZE：字体大小\n",
    "LEADING：行间距\n",
    "TEXTCOLOR：字体颜色\n",
    "ALIGNMENT：水平对齐方式（可选值：“LEFT”，”RIGHT“，”CENTER“）\n",
    "LEFTPADDING：左边填充\n",
    "RIGHTPADDING：右边填充\n",
    "BOTTOMPADDING：底部填充\n",
    "TOPPADDING：顶部填充\n",
    "BACKGROUND：背景色\n",
    "VALIGN：垂直对齐方式（可选值：“TOP”，“MIDDLE”，“BOTTOM”）\n",
    "GRID：表格颜色，被指定的行列中的所有子行和子列都被设置成相应颜色\n",
    "INNERGRID：表格颜色，仅仅修改指定的子行和子列的相应颜色（不包括边框）\n",
    "BOX：边框颜色，被指定的边框的颜色\n",
    "LINEBELOW：指定块底部的行颜色\n",
    "LINEAFTER：指定块右边的行颜色。"
   ]
  },
  {
   "cell_type": "markdown",
   "id": "e953187c-7db3-46b5-9167-fae8de3a18f0",
   "metadata": {},
   "source": [
    "# 图片"
   ]
  },
  {
   "cell_type": "code",
   "execution_count": null,
   "id": "7c83a1ec-78de-476e-b399-03decea51057",
   "metadata": {},
   "outputs": [],
   "source": [
    "Image(filename, width=None, height=None)\n",
    "\n",
    "# filename：指定文件名\n",
    "# width：指定图片的宽度\n",
    "# height：指定图片的高度\n",
    "\n",
    "# 如果宽度和高度有一个没有被指定，则参考原来的图片像素。"
   ]
  },
  {
   "cell_type": "code",
   "execution_count": 12,
   "id": "fa8ee3d9-3368-4b1b-ab7c-2dd8b62346ee",
   "metadata": {},
   "outputs": [
    {
     "data": {
      "text/plain": [
       "-6351592346089276323"
      ]
     },
     "execution_count": 12,
     "metadata": {},
     "output_type": "execute_result"
    }
   ],
   "source": [
    "hash(\"Test\")"
   ]
  },
  {
   "cell_type": "code",
   "execution_count": 49,
   "id": "5b65596c-7934-44a2-8333-307f22a5348b",
   "metadata": {},
   "outputs": [
    {
     "name": "stdout",
     "output_type": "stream",
     "text": [
      "DD4385C58A9CB314\n"
     ]
    }
   ],
   "source": [
    "import hashlib\n",
    " \n",
    "product_name = \"example_product\"\n",
    "product_id = hashlib.md5(product_name.encode()).hexdigest()[:16]  # 取前10位作为ID\n",
    "print(product_id.upper())"
   ]
  },
  {
   "cell_type": "code",
   "execution_count": 45,
   "id": "b29f6064-197f-4aff-8920-5de255695d1f",
   "metadata": {},
   "outputs": [],
   "source": [
    "jsn = json.dumps(content)"
   ]
  },
  {
   "cell_type": "code",
   "execution_count": 40,
   "id": "3f72d11a-c5ad-4f87-a92b-dc9ca8dec0a7",
   "metadata": {},
   "outputs": [
    {
     "ename": "TypeError",
     "evalue": "unhashable type: 'list'",
     "output_type": "error",
     "traceback": [
      "\u001b[31m---------------------------------------------------------------------------\u001b[39m",
      "\u001b[31mTypeError\u001b[39m                                 Traceback (most recent call last)",
      "\u001b[36mCell\u001b[39m\u001b[36m \u001b[39m\u001b[32mIn[40]\u001b[39m\u001b[32m, line 1\u001b[39m\n\u001b[32m----> \u001b[39m\u001b[32m1\u001b[39m \u001b[38;5;28;43mhash\u001b[39;49m\u001b[43m(\u001b[49m\u001b[43mcontent\u001b[49m\u001b[43m)\u001b[49m\n",
      "\u001b[31mTypeError\u001b[39m: unhashable type: 'list'"
     ]
    }
   ],
   "source": [
    "hash(content)"
   ]
  },
  {
   "cell_type": "code",
   "execution_count": 29,
   "id": "e094307c-f2fc-45a8-8a4d-934c32c049f6",
   "metadata": {},
   "outputs": [
    {
     "data": {
      "text/plain": [
       "20"
      ]
     },
     "execution_count": 29,
     "metadata": {},
     "output_type": "execute_result"
    }
   ],
   "source": [
    "len(str(hash(jsn)))"
   ]
  },
  {
   "cell_type": "code",
   "execution_count": 39,
   "id": "753faa87-3a1b-4a41-a8e5-3b7391a5bc98",
   "metadata": {},
   "outputs": [
    {
     "data": {
      "text/plain": [
       "'\"-8023053760599651518\"'"
      ]
     },
     "execution_count": 39,
     "metadata": {},
     "output_type": "execute_result"
    }
   ],
   "source": [
    "json.dumps(str(hash(jsn)))"
   ]
  },
  {
   "cell_type": "code",
   "execution_count": 31,
   "id": "45b51c78-3d6d-4d08-9a10-8491222a4f06",
   "metadata": {},
   "outputs": [],
   "source": [
    "import struct"
   ]
  },
  {
   "cell_type": "code",
   "execution_count": 35,
   "id": "fdcf47dd-7e02-4e98-bc4c-349d649abb9f",
   "metadata": {},
   "outputs": [],
   "source": [
    "a = str(hash(jsn))"
   ]
  },
  {
   "cell_type": "code",
   "execution_count": 36,
   "id": "ac02070f-0c09-4075-bc75-348cecfb3573",
   "metadata": {},
   "outputs": [
    {
     "ename": "error",
     "evalue": "argument out of range",
     "output_type": "error",
     "traceback": [
      "\u001b[31m---------------------------------------------------------------------------\u001b[39m",
      "\u001b[31merror\u001b[39m                                     Traceback (most recent call last)",
      "\u001b[36mCell\u001b[39m\u001b[36m \u001b[39m\u001b[32mIn[36]\u001b[39m\u001b[32m, line 1\u001b[39m\n\u001b[32m----> \u001b[39m\u001b[32m1\u001b[39m \u001b[38;5;28mint\u001b[39m.from_bytes(\u001b[43mstruct\u001b[49m\u001b[43m.\u001b[49m\u001b[43mpack\u001b[49m\u001b[43m(\u001b[49m\u001b[33;43m'\u001b[39;49m\u001b[33;43m<Q\u001b[39;49m\u001b[33;43m'\u001b[39;49m\u001b[43m,\u001b[49m\u001b[38;5;28;43mint\u001b[39;49m\u001b[43m(\u001b[49m\u001b[43ma\u001b[49m\u001b[43m,\u001b[49m\u001b[32;43m16\u001b[39;49m\u001b[43m)\u001b[49m\u001b[43m)\u001b[49m, byteorder=\u001b[33m'\u001b[39m\u001b[33mlittle\u001b[39m\u001b[33m'\u001b[39m, signed=\u001b[38;5;28;01mFalse\u001b[39;00m)\n",
      "\u001b[31merror\u001b[39m: argument out of range"
     ]
    }
   ],
   "source": [
    "int.from_bytes(struct.pack('<Q',int(a,16)), byteorder='little', signed=False)"
   ]
  },
  {
   "cell_type": "code",
   "execution_count": null,
   "id": "72cac904-13c0-405a-a582-e6b6deda43bd",
   "metadata": {},
   "outputs": [],
   "source": []
  }
 ],
 "metadata": {
  "kernelspec": {
   "display_name": "WinPython_3p11",
   "language": "python",
   "name": "winpython_3p11"
  },
  "language_info": {
   "codemirror_mode": {
    "name": "ipython",
    "version": 3
   },
   "file_extension": ".py",
   "mimetype": "text/x-python",
   "name": "python",
   "nbconvert_exporter": "python",
   "pygments_lexer": "ipython3",
   "version": "3.11.6"
  }
 },
 "nbformat": 4,
 "nbformat_minor": 5
}
